{
 "cells": [
  {
   "cell_type": "markdown",
   "id": "25d7736c-ba17-4aff-b6bb-66eba20fbf4e",
   "metadata": {},
   "source": [
    "# Lab | Pandas"
   ]
  },
  {
   "cell_type": "markdown",
   "id": "d1973e9e-8be6-4039-b70e-d73ee0d94c99",
   "metadata": {},
   "source": [
    "In this lab, we will be working with the customer data from an insurance company, which can be found in the CSV file located at the following link: https://raw.githubusercontent.com/data-bootcamp-v4/data/main/file1.csv\n",
    "\n",
    "The data includes information such as customer ID, state, gender, education, income, and other variables that can be used to perform various analyses.\n",
    "\n",
    "Throughout the lab, we will be using the pandas library in Python to manipulate and analyze the data. Pandas is a powerful library that provides various data manipulation and analysis tools, including the ability to load and manipulate data from a variety of sources, including CSV files."
   ]
  },
  {
   "cell_type": "markdown",
   "id": "8045146f-f4f7-44d9-8cd9-130d6400c73a",
   "metadata": {},
   "source": [
    "### Data Description\n",
    "\n",
    "- Customer - Customer ID\n",
    "\n",
    "- ST - State where customers live\n",
    "\n",
    "- Gender - Gender of the customer\n",
    "\n",
    "- Education - Background education of customers \n",
    "\n",
    "- Customer Lifetime Value - Customer lifetime value(CLV) is the total revenue the client will derive from their entire relationship with a customer. In other words, is the predicted or calculated value of a customer over their entire duration as a policyholder with the insurance company. It is an estimation of the net profit that the insurance company expects to generate from a customer throughout their relationship with the company. Customer Lifetime Value takes into account factors such as the duration of the customer's policy, premium payments, claim history, renewal likelihood, and potential additional services or products the customer may purchase. It helps insurers assess the long-term profitability and value associated with retaining a particular customer.\n",
    "\n",
    "- Income - Customers income\n",
    "\n",
    "- Monthly Premium Auto - Amount of money the customer pays on a monthly basis as a premium for their auto insurance coverage. It represents the recurring cost that the insured person must pay to maintain their insurance policy and receive coverage for potential damages, accidents, or other covered events related to their vehicle.\n",
    "\n",
    "- Number of Open Complaints - Number of complaints the customer opened\n",
    "\n",
    "- Policy Type - There are three type of policies in car insurance (Corporate Auto, Personal Auto, and Special Auto)\n",
    "\n",
    "- Vehicle Class - Type of vehicle classes that customers have Two-Door Car, Four-Door Car SUV, Luxury SUV, Sports Car, and Luxury Car\n",
    "\n",
    "- Total Claim Amount - the sum of all claims made by the customer. It represents the total monetary value of all approved claims for incidents such as accidents, theft, vandalism, or other covered events.\n"
   ]
  },
  {
   "cell_type": "markdown",
   "id": "3a72419b-20fc-4905-817a-8c83abc59de6",
   "metadata": {},
   "source": [
    "External Resources: https://towardsdatascience.com/filtering-data-frames-in-pandas-b570b1f834b9"
   ]
  },
  {
   "cell_type": "markdown",
   "id": "8f8ece17-e919-4e23-96c0-c7c59778436a",
   "metadata": {},
   "source": [
    "## Challenge 1: Understanding the data\n",
    "\n",
    "In this challenge, you will use pandas to explore a given dataset. Your task is to gain a deep understanding of the data by analyzing its characteristics, dimensions, and statistical properties."
   ]
  },
  {
   "cell_type": "markdown",
   "id": "91437bd5-59a6-49c0-8150-ef0e6e6eb253",
   "metadata": {},
   "source": [
    "- Identify the dimensions of the dataset by determining the number of rows and columns it contains.\n",
    "- Determine the data types of each column and evaluate whether they are appropriate for the nature of the variable. You should also provide suggestions for fixing any incorrect data types.\n",
    "- Identify the number of unique values for each column and determine which columns appear to be categorical. You should also describe the unique values of each categorical column and the range of values for numerical columns, and give your insights.\n",
    "- Compute summary statistics such as mean, median, mode, standard deviation, and quartiles to understand the central tendency and distribution of the data for numerical columns. You should also provide your conclusions based on these summary statistics.\n",
    "- Compute summary statistics for categorical columns and providing your conclusions based on these statistics."
   ]
  },
  {
   "cell_type": "code",
   "execution_count": 16,
   "id": "b731bca6-a760-4860-a27b-a33efa712ce0",
   "metadata": {},
   "outputs": [
    {
     "name": "stdout",
     "output_type": "stream",
     "text": [
      "  Customer          ST GENDER             Education Customer Lifetime Value  \\\n",
      "0  RB50392  Washington    NaN                Master                     NaN   \n",
      "1  QZ44356     Arizona      F              Bachelor              697953.59%   \n",
      "2  AI49188      Nevada      F              Bachelor             1288743.17%   \n",
      "3  WW63253  California      M              Bachelor              764586.18%   \n",
      "4  GA49547  Washington      M  High School or Below              536307.65%   \n",
      "\n",
      "    Income  Monthly Premium Auto Number of Open Complaints     Policy Type  \\\n",
      "0      0.0                1000.0                    1/0/00   Personal Auto   \n",
      "1      0.0                  94.0                    1/0/00   Personal Auto   \n",
      "2  48767.0                 108.0                    1/0/00   Personal Auto   \n",
      "3      0.0                 106.0                    1/0/00  Corporate Auto   \n",
      "4  36357.0                  68.0                    1/0/00   Personal Auto   \n",
      "\n",
      "   Vehicle Class  Total Claim Amount  \n",
      "0  Four-Door Car            2.704934  \n",
      "1  Four-Door Car         1131.464935  \n",
      "2   Two-Door Car          566.472247  \n",
      "3            SUV          529.881344  \n",
      "4  Four-Door Car           17.269323  \n"
     ]
    }
   ],
   "source": [
    "# Your code here\n",
    "# Import de Dataframe\n",
    "\n",
    "import pandas as pd\n",
    "\n",
    "# Cargar el archivo CSV desde la URL\n",
    "url = 'https://raw.githubusercontent.com/data-bootcamp-v4/data/main/file1.csv'\n",
    "ensurance_df = pd.read_csv(url)\n",
    "\n",
    "# Mostrar las primeras filas del DataFrame para verificar la carga\n",
    "print(ensurance_df.head())"
   ]
  },
  {
   "cell_type": "code",
   "execution_count": 18,
   "id": "7fc63440-a1c2-4d74-930a-4dc02e8b8038",
   "metadata": {},
   "outputs": [
    {
     "data": {
      "text/plain": [
       "(4008, 11)"
      ]
     },
     "execution_count": 18,
     "metadata": {},
     "output_type": "execute_result"
    }
   ],
   "source": [
    "# Identify the dimensions of the dataset by determining the number of rows and columns it contains\n",
    "\n",
    "ensurance_df.shape"
   ]
  },
  {
   "cell_type": "code",
   "execution_count": 28,
   "id": "504dcadb-4b6f-447c-b2fd-02b514d21efe",
   "metadata": {},
   "outputs": [
    {
     "data": {
      "text/plain": [
       "Customer                      object\n",
       "ST                            object\n",
       "GENDER                        object\n",
       "Education                     object\n",
       "Customer Lifetime Value       object\n",
       "Income                       float64\n",
       "Monthly Premium Auto         float64\n",
       "Number of Open Complaints     object\n",
       "Policy Type                   object\n",
       "Vehicle Class                 object\n",
       "Total Claim Amount           float64\n",
       "dtype: object"
      ]
     },
     "execution_count": 28,
     "metadata": {},
     "output_type": "execute_result"
    }
   ],
   "source": [
    "# Determine the data types of each column and evaluate whether they are appropriate for the nature of the variable.\n",
    "\n",
    "ensurance_df.dtypes\n"
   ]
  },
  {
   "cell_type": "code",
   "execution_count": null,
   "id": "59283d31-08da-4660-b67b-f9549ab61c3f",
   "metadata": {},
   "outputs": [],
   "source": [
    "# You should also provide suggestions for fixing any incorrect data types.\n",
    " # Suggestions: El income y el Monthtly Premium Auto debería convertirse en Integer "
   ]
  },
  {
   "cell_type": "code",
   "execution_count": 42,
   "id": "04ed9dd5-dda9-47d2-a88a-88c5403b1d96",
   "metadata": {},
   "outputs": [
    {
     "data": {
      "text/plain": [
       "<bound method DataFrame.nunique of      Customer          ST GENDER             Education  \\\n",
       "0     RB50392  Washington    NaN                Master   \n",
       "1     QZ44356     Arizona      F              Bachelor   \n",
       "2     AI49188      Nevada      F              Bachelor   \n",
       "3     WW63253  California      M              Bachelor   \n",
       "4     GA49547  Washington      M  High School or Below   \n",
       "...       ...         ...    ...                   ...   \n",
       "4003      NaN         NaN    NaN                   NaN   \n",
       "4004      NaN         NaN    NaN                   NaN   \n",
       "4005      NaN         NaN    NaN                   NaN   \n",
       "4006      NaN         NaN    NaN                   NaN   \n",
       "4007      NaN         NaN    NaN                   NaN   \n",
       "\n",
       "     Customer Lifetime Value   Income  Monthly Premium Auto  \\\n",
       "0                        NaN      0.0                1000.0   \n",
       "1                 697953.59%      0.0                  94.0   \n",
       "2                1288743.17%  48767.0                 108.0   \n",
       "3                 764586.18%      0.0                 106.0   \n",
       "4                 536307.65%  36357.0                  68.0   \n",
       "...                      ...      ...                   ...   \n",
       "4003                     NaN      NaN                   NaN   \n",
       "4004                     NaN      NaN                   NaN   \n",
       "4005                     NaN      NaN                   NaN   \n",
       "4006                     NaN      NaN                   NaN   \n",
       "4007                     NaN      NaN                   NaN   \n",
       "\n",
       "     Number of Open Complaints     Policy Type  Vehicle Class  \\\n",
       "0                       1/0/00   Personal Auto  Four-Door Car   \n",
       "1                       1/0/00   Personal Auto  Four-Door Car   \n",
       "2                       1/0/00   Personal Auto   Two-Door Car   \n",
       "3                       1/0/00  Corporate Auto            SUV   \n",
       "4                       1/0/00   Personal Auto  Four-Door Car   \n",
       "...                        ...             ...            ...   \n",
       "4003                       NaN             NaN            NaN   \n",
       "4004                       NaN             NaN            NaN   \n",
       "4005                       NaN             NaN            NaN   \n",
       "4006                       NaN             NaN            NaN   \n",
       "4007                       NaN             NaN            NaN   \n",
       "\n",
       "      Total Claim Amount  \n",
       "0               2.704934  \n",
       "1            1131.464935  \n",
       "2             566.472247  \n",
       "3             529.881344  \n",
       "4              17.269323  \n",
       "...                  ...  \n",
       "4003                 NaN  \n",
       "4004                 NaN  \n",
       "4005                 NaN  \n",
       "4006                 NaN  \n",
       "4007                 NaN  \n",
       "\n",
       "[4008 rows x 11 columns]>"
      ]
     },
     "execution_count": 42,
     "metadata": {},
     "output_type": "execute_result"
    }
   ],
   "source": [
    "# Identify the number of unique values for each column and determine which columns appear to be categorical.\n",
    "ensurance_df.nunique"
   ]
  },
  {
   "cell_type": "code",
   "execution_count": 50,
   "id": "b92ce38d-a55f-4fc5-8024-edd50cb95160",
   "metadata": {},
   "outputs": [
    {
     "name": "stdout",
     "output_type": "stream",
     "text": [
      "\n",
      "Columnas que parecen ser categóricas:\n",
      "['ST', 'GENDER', 'Education', 'Number of Open Complaints', 'Policy Type', 'Vehicle Class']\n"
     ]
    }
   ],
   "source": [
    "categorical_columns = unique_values[unique_values < 10].index.tolist()  \n",
    "\n",
    "# Mostrar las columnas categóricas\n",
    "print(\"\\nColumnas que parecen ser categóricas:\")\n",
    "print(categorical_columns)"
   ]
  },
  {
   "cell_type": "code",
   "execution_count": 54,
   "id": "8388110c-e730-4e41-8598-9fcefc72c10e",
   "metadata": {},
   "outputs": [
    {
     "name": "stdout",
     "output_type": "stream",
     "text": [
      "ST: ['Washington' 'Arizona' 'Nevada' 'California' 'Oregon' 'Cali' 'AZ' 'WA'\n",
      " nan]\n",
      "GENDER: [nan 'F' 'M' 'Femal' 'Male' 'female']\n",
      "Education: ['Master' 'Bachelor' 'High School or Below' 'College' 'Bachelors' 'Doctor'\n",
      " nan]\n",
      "Number of Open Complaints: ['1/0/00' '1/2/00' '1/1/00' '1/3/00' '1/5/00' '1/4/00' nan]\n",
      "Policy Type: ['Personal Auto' 'Corporate Auto' 'Special Auto' nan]\n",
      "Vehicle Class: ['Four-Door Car' 'Two-Door Car' 'SUV' 'Luxury SUV' 'Sports Car'\n",
      " 'Luxury Car' nan]\n"
     ]
    }
   ],
   "source": [
    "# You should also describe the unique values of each categorical column and the range of values for numerical columns, and give your insights.\n",
    "\n",
    "categorical_description = {col: df[col].unique() for col in categorical_columns}\n",
    "for col, values in categorical_description.items():\n",
    "    print(f\"{col}: {values}\")\n"
   ]
  },
  {
   "cell_type": "code",
   "execution_count": 58,
   "id": "c59b0784-18d9-440f-b592-bcb0a63a9cf0",
   "metadata": {},
   "outputs": [
    {
     "name": "stdout",
     "output_type": "stream",
     "text": [
      "Media de cada columna numérica:\n",
      "Income                  39295.701214\n",
      "Monthly Premium Auto      193.234360\n",
      "Total Claim Amount        404.986909\n",
      "dtype: float64\n",
      "\n",
      "Mediana de cada columna numérica:\n",
      "Income                  36234.000000\n",
      "Monthly Premium Auto       83.000000\n",
      "Total Claim Amount        354.729129\n",
      "dtype: float64\n",
      "\n",
      "Moda de cada columna numérica:\n",
      "Income                    0.0\n",
      "Monthly Premium Auto     65.0\n",
      "Total Claim Amount      321.6\n",
      "Name: 0, dtype: float64\n",
      "\n",
      "Desviación estándar de cada columna numérica:\n",
      "Income                  30469.427060\n",
      "Monthly Premium Auto     1601.190369\n",
      "Total Claim Amount        293.027260\n",
      "dtype: float64\n",
      "\n",
      "Cuartiles (25%, 50%, 75%) de cada columna numérica:\n",
      "       Income  Monthly Premium Auto  Total Claim Amount\n",
      "0.25  14072.0                  68.0          202.157702\n",
      "0.50  36234.0                  83.0          354.729129\n",
      "0.75  64631.0                 109.5          532.800000\n",
      "\n",
      "Conclusiones:\n",
      "\n",
      "Para la columna 'Income':\n",
      "- La media (39295.70121381886) es mayor que la mediana (36234.0), lo que indica una posible asimetría positiva.\n",
      "- La desviación estándar es 30469.42706040185, lo que indica el nivel de dispersión en los datos.\n",
      "- El rango intercuartil es 50559.0, mostrando la dispersión entre el 25% y 75% de los datos.\n",
      "\n",
      "Para la columna 'Monthly Premium Auto':\n",
      "- La media (193.234360410831) es mayor que la mediana (83.0), lo que indica una posible asimetría positiva.\n",
      "- La desviación estándar es 1601.190368577621, lo que indica el nivel de dispersión en los datos.\n",
      "- El rango intercuartil es 41.5, mostrando la dispersión entre el 25% y 75% de los datos.\n",
      "\n",
      "Para la columna 'Total Claim Amount':\n",
      "- La media (404.98690940896364) es mayor que la mediana (354.729129), lo que indica una posible asimetría positiva.\n",
      "- La desviación estándar es 293.0272599264041, lo que indica el nivel de dispersión en los datos.\n",
      "- El rango intercuartil es 330.642298, mostrando la dispersión entre el 25% y 75% de los datos.\n"
     ]
    }
   ],
   "source": [
    "# Compute summary statistics such as mean, median, mode, standard deviation, \n",
    "# and quartiles to understand the central tendency and distribution of the data for numerical columns.\n",
    "# You should also provide your conclusions based on these summary statistics.\n",
    "\n",
    "# Seleccionar solo las columnas numéricas\n",
    "numerical_cols = df.select_dtypes(include=['float64', 'int64'])\n",
    "\n",
    "# Calcular las estadísticas resumidas\n",
    "mean_values = numerical_cols.mean()\n",
    "median_values = numerical_cols.median()\n",
    "mode_values = numerical_cols.mode().iloc[0]  # La moda puede tener más de un valor\n",
    "std_dev = numerical_cols.std()\n",
    "quartiles = numerical_cols.quantile([0.25, 0.5, 0.75])\n",
    "\n",
    "# Mostrar resultados\n",
    "print(\"Media de cada columna numérica:\")\n",
    "print(mean_values)\n",
    "\n",
    "print(\"\\nMediana de cada columna numérica:\")\n",
    "print(median_values)\n",
    "\n",
    "print(\"\\nModa de cada columna numérica:\")\n",
    "print(mode_values)\n",
    "\n",
    "print(\"\\nDesviación estándar de cada columna numérica:\")\n",
    "print(std_dev)\n",
    "\n",
    "print(\"\\nCuartiles (25%, 50%, 75%) de cada columna numérica:\")\n",
    "print(quartiles)\n",
    "\n",
    "# añadir conclusiones basadas en estos resultados\n",
    "def draw_conclusions(mean_values, median_values, std_dev, quartiles):\n",
    "    print(\"\\nConclusiones:\")\n",
    "    \n",
    "    for col in numerical_cols.columns:\n",
    "        print(f\"\\nPara la columna '{col}':\")\n",
    "        if mean_values[col] == median_values[col]:\n",
    "            print(f\"- La media y la mediana son iguales ({mean_values[col]}), lo que indica una distribución simétrica.\")\n",
    "        elif mean_values[col] > median_values[col]:\n",
    "            print(f\"- La media ({mean_values[col]}) es mayor que la mediana ({median_values[col]}), lo que indica una posible asimetría positiva.\")\n",
    "        else:\n",
    "            print(f\"- La media ({mean_values[col]}) es menor que la mediana ({median_values[col]}), lo que indica una posible asimetría negativa.\")\n",
    "        \n",
    "        print(f\"- La desviación estándar es {std_dev[col]}, lo que indica el nivel de dispersión en los datos.\")\n",
    "        print(f\"- El rango intercuartil es {quartiles.loc[0.75, col] - quartiles.loc[0.25, col]}, mostrando la dispersión entre el 25% y 75% de los datos.\")\n",
    "\n",
    "# Llamar a la función para obtener conclusiones\n",
    "draw_conclusions(mean_values, median_values, std_dev, quartiles)\n",
    "\n"
   ]
  },
  {
   "cell_type": "markdown",
   "id": "4a703890-63db-4944-b7ab-95a4f8185120",
   "metadata": {},
   "source": [
    "## Challenge 2: analyzing the data"
   ]
  },
  {
   "cell_type": "markdown",
   "id": "0776a403-c56a-452f-ac33-5fd4fdb06fc7",
   "metadata": {},
   "source": [
    "### Exercise 1"
   ]
  },
  {
   "cell_type": "markdown",
   "id": "eedbc484-da4d-4f9c-9343-e1d44311a87e",
   "metadata": {},
   "source": [
    "The marketing team wants to know the top 5 less common customer locations. Create a pandas Series object that contains the customer locations and their frequencies, and then retrieve the top 5 less common locations in ascending order."
   ]
  },
  {
   "cell_type": "code",
   "execution_count": 74,
   "id": "46a03027-0630-483b-905c-310718bc463a",
   "metadata": {},
   "outputs": [
    {
     "name": "stdout",
     "output_type": "stream",
     "text": [
      "Top 5 ubicaciones de clientes menos comunes:\n",
      "ST\n",
      "AZ             25\n",
      "WA             30\n",
      "Washington     81\n",
      "Nevada         98\n",
      "Cali          120\n",
      "Name: count, dtype: int64\n"
     ]
    }
   ],
   "source": [
    "# Contar las frecuencias de las ubicaciones de los clientes\n",
    "location_counts = df['ST'].value_counts()\n",
    "\n",
    "# Obtener las 5 ubicaciones menos comunes en orden ascendente\n",
    "top_5_less_common_locations = location_counts.nsmallest(5)\n",
    "\n",
    "# Mostrar resultados\n",
    "print(\"Top 5 ubicaciones de clientes menos comunes:\")\n",
    "print(top_5_less_common_locations)\n"
   ]
  },
  {
   "cell_type": "code",
   "execution_count": 80,
   "id": "2e299d45-c314-409f-b8dc-bf18bcbc58eb",
   "metadata": {},
   "outputs": [
    {
     "name": "stdout",
     "output_type": "stream",
     "text": [
      "ST\n",
      "AZ             25\n",
      "WA             30\n",
      "Washington     81\n",
      "Nevada         98\n",
      "Cali          120\n",
      "Name: count, dtype: int64\n"
     ]
    }
   ],
   "source": [
    "# Exportar el resultado a un archivo CSV\n",
    "top_5_less_common_locations.to_csv('top_5_less_common_locations.csv', header=True, index=False)\n",
    "print(top_5_less_common_locations)"
   ]
  },
  {
   "cell_type": "markdown",
   "id": "0ce80f43-4afa-43c7-a78a-c917444da4e0",
   "metadata": {},
   "source": [
    "### Exercise 2\n",
    "\n",
    "The sales team wants to know the total number of policies sold for each type of policy. Create a pandas Series object that contains the policy types and their total number of policies sold, and then retrieve the policy type with the highest number of policies sold."
   ]
  },
  {
   "cell_type": "markdown",
   "id": "a9f13997-1555-4f98-aca6-970fda1d2c3f",
   "metadata": {},
   "source": [
    "*Hint:*\n",
    "- *Using value_counts() method simplifies this analysis.*\n",
    "- *Futhermore, there is a method that returns the index of the maximum value in a column or row.*\n"
   ]
  },
  {
   "cell_type": "code",
   "execution_count": 84,
   "id": "baedd7df-024d-4bee-92a8-74ca1ea1db81",
   "metadata": {},
   "outputs": [
    {
     "name": "stdout",
     "output_type": "stream",
     "text": [
      "Total de pólizas vendidas por tipo de póliza:\n",
      "Policy Type\n",
      "Personal Auto     780\n",
      "Corporate Auto    234\n",
      "Special Auto       57\n",
      "Name: count, dtype: int64\n",
      "\n",
      "Tipo de póliza con mayor número de ventas: Personal Auto\n"
     ]
    }
   ],
   "source": [
    "# Contar el número total de pólizas vendidas por tipo de póliza\n",
    "policy_counts = df['Policy Type'].value_counts()\n",
    "\n",
    "# Obtener el tipo de póliza con el mayor número de ventas\n",
    "top_policy_type = policy_counts.idxmax()\n",
    "\n",
    "# Mostrar los resultados\n",
    "print(\"Total de pólizas vendidas por tipo de póliza:\")\n",
    "print(policy_counts)\n",
    "print(\"\\nTipo de póliza con mayor número de ventas:\", top_policy_type)\n"
   ]
  },
  {
   "cell_type": "markdown",
   "id": "0b863fd3-bf91-4d5d-86eb-be29ed9f5b70",
   "metadata": {},
   "source": [
    "### Exercise 3\n",
    "\n",
    "The sales team wants to know if customers with Personal Auto have a lower income than those with Corporate Auto. How does the average income compare between the two policy types?"
   ]
  },
  {
   "cell_type": "markdown",
   "id": "b1386d75-2810-4aa1-93e0-9485aa12d552",
   "metadata": {},
   "source": [
    "- Use *loc* to create two dataframes: one containing only Personal Auto policies and one containing only Corporate Auto policies.\n",
    "- Calculate the average income for each policy.\n",
    "- Print the results."
   ]
  },
  {
   "cell_type": "code",
   "execution_count": 86,
   "id": "0c0563cf-6f8b-463d-a321-651a972f82e5",
   "metadata": {},
   "outputs": [
    {
     "name": "stdout",
     "output_type": "stream",
     "text": [
      "Ingreso promedio para clientes con póliza Personal Auto: 38180.70\n",
      "Ingreso promedio para clientes con póliza Corporate Auto: 41390.31\n"
     ]
    }
   ],
   "source": [
    "# Crear DataFrame para pólizas de Personal Auto\n",
    "personal_auto_df = df.loc[df['Policy Type'] == 'Personal Auto']\n",
    "\n",
    "# Crear DataFrame para pólizas de Corporate Auto\n",
    "corporate_auto_df = df.loc[df['Policy Type'] == 'Corporate Auto']\n",
    "\n",
    "# Calcular el ingreso promedio para cada tipo de póliza\n",
    "average_income_personal = personal_auto_df['Income'].mean()\n",
    "average_income_corporate = corporate_auto_df['Income'].mean()\n",
    "\n",
    "# Imprimir los resultados\n",
    "print(f\"Ingreso promedio para clientes con póliza Personal Auto: {average_income_personal:.2f}\")\n",
    "print(f\"Ingreso promedio para clientes con póliza Corporate Auto: {average_income_corporate:.2f}\")\n"
   ]
  },
  {
   "cell_type": "markdown",
   "id": "80b16c27-f4a5-4727-a229-1f88671cf4e2",
   "metadata": {},
   "source": [
    "### Bonus: Exercise 4\n"
   ]
  },
  {
   "cell_type": "markdown",
   "id": "ac584986-299b-475f-ac2e-928c16c3f512",
   "metadata": {},
   "source": [
    "Your goal is to identify customers with a high policy claim amount.\n",
    "\n",
    "Instructions:\n",
    "\n",
    "- Review again the statistics for total claim amount to gain an understanding of the data.\n",
    "- To identify potential areas for improving customer retention and profitability, we want to focus on customers with a high policy claim amount. Consider customers with a high policy claim amount to be those in the top 25% of the total claim amount. Create a pandas DataFrame object that contains information about customers with a policy claim amount greater than the 75th percentile.\n",
    "- Use DataFrame methods to calculate summary statistics about the high policy claim amount data. "
   ]
  },
  {
   "cell_type": "markdown",
   "id": "4e3af5f1-6023-4b05-9c01-d05392daa650",
   "metadata": {},
   "source": [
    "*Note: When analyzing data, we often want to focus on certain groups of values to gain insights. Percentiles are a useful tool to help us define these groups. A percentile is a measure that tells us what percentage of values in a dataset are below a certain value. For example, the 75th percentile represents the value below which 75% of the data falls. Similarly, the 25th percentile represents the value below which 25% of the data falls. When we talk about the top 25%, we are referring to the values that fall above the 75th percentile, which represent the top quarter of the data. On the other hand, when we talk about the bottom 25%, we are referring to the values that fall below the 25th percentile, which represent the bottom quarter of the data. By focusing on these groups, we can identify patterns and trends that may be useful for making decisions and taking action.*\n",
    "\n",
    "*Hint: look for a method that gives you the percentile or quantile 0.75 and 0.25 for a Pandas Series.*"
   ]
  },
  {
   "cell_type": "markdown",
   "id": "2d234634-50bd-41e0-88f7-d5ba684455d1",
   "metadata": {},
   "source": [
    "*Hint 2: check `Boolean selection according to the values of a single column` in https://towardsdatascience.com/filtering-data-frames-in-pandas-b570b1f834b9*"
   ]
  },
  {
   "cell_type": "code",
   "execution_count": 88,
   "id": "274d43de-e9bf-4035-b853-2ea4fccb2747",
   "metadata": {},
   "outputs": [
    {
     "name": "stdout",
     "output_type": "stream",
     "text": [
      "Estadísticas del monto total de reclamación:\n",
      "count    1071.000000\n",
      "mean      404.986909\n",
      "std       293.027260\n",
      "min         0.382107\n",
      "25%       202.157702\n",
      "50%       354.729129\n",
      "75%       532.800000\n",
      "max      2893.239678\n",
      "Name: Total Claim Amount, dtype: float64\n",
      "\n",
      "Clientes con monto de reclamación alto (mayor que el percentil 75):\n",
      "     Customer          ST GENDER Education Customer Lifetime Value   Income  \\\n",
      "1     QZ44356     Arizona      F  Bachelor              697953.59%      0.0   \n",
      "2     AI49188      Nevada      F  Bachelor             1288743.17%  48767.0   \n",
      "17    OE15005        Cali    NaN   College              394524.16%  28855.0   \n",
      "23    TZ98966      Nevada    NaN  Bachelor              245019.10%      0.0   \n",
      "26    US89481  California    NaN  Bachelor              394637.21%      0.0   \n",
      "...       ...         ...    ...       ...                     ...      ...   \n",
      "1059  YG44474      Oregon      M   College             1401472.13%  54193.0   \n",
      "1061  RY92647        Cali      F  Bachelor             1050677.17%      0.0   \n",
      "1068  GS98873     Arizona      F  Bachelor              323912.47%  16061.0   \n",
      "1069  CW49887  California      F    Master              462680.11%  79487.0   \n",
      "1070  MY31220  California      F   College              899704.02%  54230.0   \n",
      "\n",
      "      Monthly Premium Auto Number of Open Complaints     Policy Type  \\\n",
      "1                     94.0                    1/0/00   Personal Auto   \n",
      "2                    108.0                    1/0/00   Personal Auto   \n",
      "17                   101.0                    1/0/00   Personal Auto   \n",
      "23                    73.0                    1/3/00  Corporate Auto   \n",
      "26                   111.0                    1/0/00   Personal Auto   \n",
      "...                    ...                       ...             ...   \n",
      "1059                 117.0                    1/0/00  Corporate Auto   \n",
      "1061                  92.0                    1/0/00   Personal Auto   \n",
      "1068                  88.0                    1/0/00   Personal Auto   \n",
      "1069                 114.0                    1/0/00    Special Auto   \n",
      "1070                 112.0                    1/0/00   Personal Auto   \n",
      "\n",
      "      Vehicle Class  Total Claim Amount  \n",
      "1     Four-Door Car         1131.464935  \n",
      "2      Two-Door Car          566.472247  \n",
      "17              SUV          647.442031  \n",
      "23    Four-Door Car          554.376763  \n",
      "26    Four-Door Car          799.200000  \n",
      "...             ...                 ...  \n",
      "1059            SUV          720.752945  \n",
      "1061  Four-Door Car          546.524896  \n",
      "1068  Four-Door Car          633.600000  \n",
      "1069            SUV          547.200000  \n",
      "1070   Two-Door Car          537.600000  \n",
      "\n",
      "[264 rows x 11 columns]\n",
      "\n",
      "Estadísticas resumidas para el monto de reclamación alto:\n",
      "count     264.000000\n",
      "mean      782.228263\n",
      "std       292.751640\n",
      "min       537.600000\n",
      "25%       606.521741\n",
      "50%       679.597985\n",
      "75%       851.400000\n",
      "max      2893.239678\n",
      "Name: Total Claim Amount, dtype: float64\n"
     ]
    }
   ],
   "source": [
    "import pandas as pd\n",
    "\n",
    "# Cargar el DataFrame\n",
    "url = \"https://raw.githubusercontent.com/data-bootcamp-v4/data/main/file1.csv\"\n",
    "df = pd.read_csv(url)\n",
    "\n",
    "# Revisar las estadísticas del monto total de reclamación\n",
    "claim_stats = df['Total Claim Amount'].describe()\n",
    "print(\"Estadísticas del monto total de reclamación:\")\n",
    "print(claim_stats)\n",
    "\n",
    "# Calcular el percentil 75 (0.75) para el monto total de reclamación\n",
    "percentile_75 = df['Total Claim Amount'].quantile(0.75)\n",
    "\n",
    "# Crear un DataFrame con clientes que tienen un monto de reclamación mayor que el percentil 75\n",
    "high_claims_df = df.loc[df['Total Claim Amount'] > percentile_75]\n",
    "\n",
    "# Calcular estadísticas resumidas sobre los datos de alta reclamación\n",
    "high_claims_stats = high_claims_df['Total Claim Amount'].describe()\n",
    "\n",
    "# Imprimir resultados\n",
    "print(\"\\nClientes con monto de reclamación alto (mayor que el percentil 75):\")\n",
    "print(high_claims_df)\n",
    "\n",
    "print(\"\\nEstadísticas resumidas para el monto de reclamación alto:\")\n",
    "print(high_claims_stats)\n"
   ]
  },
  {
   "cell_type": "code",
   "execution_count": 90,
   "id": "3d1788c6-a228-46b7-a09f-7d10ba5a3792",
   "metadata": {},
   "outputs": [
    {
     "name": "stdout",
     "output_type": "stream",
     "text": [
      "\n",
      "Resultados exportados a 'high_claims_customers.csv'.\n"
     ]
    }
   ],
   "source": [
    "# Exportar los resultados a un archivo CSV\n",
    "high_claims_df.to_csv('high_claims_customers.csv', index=False, header=True)\n",
    "print(\"\\nResultados exportados a 'high_claims_customers.csv'.\")"
   ]
  },
  {
   "cell_type": "code",
   "execution_count": null,
   "id": "40e79058-fbda-442f-9316-d33a588d2285",
   "metadata": {},
   "outputs": [],
   "source": []
  }
 ],
 "metadata": {
  "kernelspec": {
   "display_name": "Python 3 (ipykernel)",
   "language": "python",
   "name": "python3"
  },
  "language_info": {
   "codemirror_mode": {
    "name": "ipython",
    "version": 3
   },
   "file_extension": ".py",
   "mimetype": "text/x-python",
   "name": "python",
   "nbconvert_exporter": "python",
   "pygments_lexer": "ipython3",
   "version": "3.12.4"
  }
 },
 "nbformat": 4,
 "nbformat_minor": 5
}
